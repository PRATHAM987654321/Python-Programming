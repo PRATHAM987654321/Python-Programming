{
  "cells": [
    {
      "cell_type": "markdown",
      "metadata": {
        "id": "view-in-github",
        "colab_type": "text"
      },
      "source": [
        "<a href=\"https://colab.research.google.com/github/PRATHAM987654321/Python-Programming/blob/main/Class1.ipynb\" target=\"_parent\"><img src=\"https://colab.research.google.com/assets/colab-badge.svg\" alt=\"Open In Colab\"/></a>"
      ]
    },
    {
      "cell_type": "markdown",
      "metadata": {
        "id": "Ev0SFMmWFIKr"
      },
      "source": [
        "**MY FIRST PROGRAM**"
      ]
    },
    {
      "cell_type": "code",
      "execution_count": null,
      "metadata": {
        "colab": {
          "base_uri": "https://localhost:8080/"
        },
        "id": "2whWAONpFXd-",
        "outputId": "fa0f6a65-9829-48d6-b994-f1157c70386f"
      },
      "outputs": [
        {
          "output_type": "stream",
          "name": "stdout",
          "text": [
            "I am Pratham\n",
            "P\n"
          ]
        }
      ],
      "source": [
        "a=\"I am Pratham\"\n",
        "print(a)\n",
        "print(a[5])\n"
      ]
    },
    {
      "cell_type": "markdown",
      "metadata": {
        "id": "0Gn9yWzXFwco"
      },
      "source": [
        "Variable Declearation"
      ]
    },
    {
      "cell_type": "code",
      "execution_count": null,
      "metadata": {
        "colab": {
          "base_uri": "https://localhost:8080/"
        },
        "id": "axPVch4JFz2h",
        "outputId": "54965cce-ead8-448e-e6ef-1346685cb150"
      },
      "outputs": [
        {
          "name": "stdout",
          "output_type": "stream",
          "text": [
            "The sum of  5 and 8 is 13\n"
          ]
        }
      ],
      "source": [
        "a=5\n",
        "b=8\n",
        "sum=a+b\n",
        "print(\"The sum of \",a ,\"and\" ,b,\"is\",sum )"
      ]
    },
    {
      "cell_type": "markdown",
      "metadata": {
        "id": "76_y7GwDIFSr"
      },
      "source": [
        "**Assignment**"
      ]
    },
    {
      "cell_type": "code",
      "execution_count": null,
      "metadata": {
        "id": "t26BzwDVIPyT"
      },
      "outputs": [],
      "source": []
    },
    {
      "cell_type": "markdown",
      "metadata": {
        "id": "61PGvSdhIl6C"
      },
      "source": [
        "**1: Subtraction of 3 numbers**\n"
      ]
    },
    {
      "cell_type": "code",
      "execution_count": null,
      "metadata": {
        "colab": {
          "base_uri": "https://localhost:8080/"
        },
        "id": "EKLJFgssI2XK",
        "outputId": "e1852483-9c6b-460e-f746-a1231c1a9ff6"
      },
      "outputs": [
        {
          "name": "stdout",
          "output_type": "stream",
          "text": [
            "The diff between a and b 12 and 15 is -24\n"
          ]
        }
      ],
      "source": [
        "a=12\n",
        "b=15\n",
        "c=21\n",
        "diff=a-b-c\n",
        "print(\"The diff between a and b\",a,\"and\",b,\"is\",diff)"
      ]
    },
    {
      "cell_type": "markdown",
      "metadata": {
        "id": "Q6FMdaKTJRoJ"
      },
      "source": [
        "**2: Division of numbers**"
      ]
    },
    {
      "cell_type": "code",
      "execution_count": null,
      "metadata": {
        "id": "YWo0vbxUIs1s"
      },
      "outputs": [],
      "source": []
    },
    {
      "cell_type": "code",
      "execution_count": null,
      "metadata": {
        "colab": {
          "base_uri": "https://localhost:8080/"
        },
        "id": "s03hIRuWJhBM",
        "outputId": "3db82b70-34e8-486e-877f-30f2c83576fb"
      },
      "outputs": [
        {
          "name": "stdout",
          "output_type": "stream",
          "text": [
            "The quotient of 2 numbers 12 and 6 is 2.0\n",
            "The quotient of 2 numbers 12 and 6 is 0\n"
          ]
        }
      ],
      "source": [
        "a=12\n",
        "b=6\n",
        "quotient=a/b\n",
        "remainder=a%b\n",
        "print(\"The quotient of 2 numbers\",a,\"and\",b,\"is\",quotient)\n",
        "print(\"The quotient of 2 numbers\",a,\"and\",b,\"is\",remainder)"
      ]
    },
    {
      "cell_type": "markdown",
      "metadata": {
        "id": "ElUc0UMWKFeS"
      },
      "source": [
        "**3: Squaring and Square Root**"
      ]
    },
    {
      "cell_type": "code",
      "execution_count": null,
      "metadata": {
        "colab": {
          "base_uri": "https://localhost:8080/"
        },
        "id": "mR1jQnNGKNSK",
        "outputId": "19a20805-c5b1-4c41-8883-24457cd15907"
      },
      "outputs": [
        {
          "name": "stdout",
          "output_type": "stream",
          "text": [
            "The square of the number 12 is 144\n",
            "The square root of the number 25 is 5.0\n",
            "The complex number is (5+3j)\n"
          ]
        },
        {
          "data": {
            "text/plain": [
              "complex"
            ]
          },
          "execution_count": 6,
          "metadata": {},
          "output_type": "execute_result"
        }
      ],
      "source": [
        "import math\n",
        "p=12\n",
        "q=25\n",
        "sq=p*p\n",
        "sqrt=math.sqrt(q)\n",
        "print(\"The square of the number\",p,\"is\",sq)\n",
        "print(\"The square root of the number\",q,\"is\",sqrt)\n",
        "a=5\n",
        "b=3j\n",
        "z=a+b\n",
        "print(\"The complex number is\",z)\n",
        "type(z)\n"
      ]
    },
    {
      "cell_type": "markdown",
      "metadata": {
        "id": "bX37KBu0jzJJ"
      },
      "source": [
        "**List**"
      ]
    },
    {
      "cell_type": "code",
      "execution_count": null,
      "metadata": {
        "colab": {
          "base_uri": "https://localhost:8080/"
        },
        "id": "INZZgy1Bj2Ui",
        "outputId": "131883db-d452-4d56-cbaa-f8131bcb218c"
      },
      "outputs": [
        {
          "name": "stdout",
          "output_type": "stream",
          "text": [
            "8\n"
          ]
        }
      ],
      "source": [
        "lis=['kau','aaa','bdf','fgt']\n",
        "lis1=['aaa','xsw','swa']\n",
        "lis.sort()\n",
        "lis\n",
        "lis.append(\"lop\")\n",
        "lis\n",
        "lis2=lis+lis1\n",
        "print(len(lis2))\n"
      ]
    },
    {
      "cell_type": "markdown",
      "metadata": {
        "id": "WOadwxLEGvfs"
      },
      "source": [
        "**Tuples**"
      ]
    },
    {
      "cell_type": "code",
      "execution_count": null,
      "metadata": {
        "colab": {
          "base_uri": "https://localhost:8080/"
        },
        "id": "DZlNhtBAGy8Y",
        "outputId": "5f6838b0-2622-4219-cea9-53810b539210"
      },
      "outputs": [
        {
          "name": "stdout",
          "output_type": "stream",
          "text": [
            "<class 'tuple'>\n",
            "Hubli\n",
            "lahore\n",
            "1\n"
          ]
        }
      ],
      "source": [
        "tup=(\"Hubli\",\"blore\",\"belgaum\")\n",
        "print(type(tup))\n",
        "tup1=('kashmir','lahore')\n",
        "tup2=tup+tup1\n",
        "tup2\n",
        "print(tup2[0])\n",
        "print(tup2[-1])\n",
        "y=tup2.index(\"blore\")\n",
        "print(y)"
      ]
    },
    {
      "cell_type": "markdown",
      "metadata": {
        "id": "UGQTrYzhY-MZ"
      },
      "source": [
        "**Sets**"
      ]
    },
    {
      "cell_type": "code",
      "execution_count": null,
      "metadata": {
        "colab": {
          "base_uri": "https://localhost:8080/"
        },
        "id": "fTwZvDNfZJpe",
        "outputId": "32b0e195-767b-411a-ff65-eb24753ec62d"
      },
      "outputs": [
        {
          "name": "stdout",
          "output_type": "stream",
          "text": [
            "{'yellow', 'blue', 'orange', 'red'}\n"
          ]
        },
        {
          "data": {
            "text/plain": [
              "{'blue', 'green', 'orange', 'red', 'yellow'}"
            ]
          },
          "execution_count": 4,
          "metadata": {},
          "output_type": "execute_result"
        }
      ],
      "source": [
        "set1={\"red\",\"blue\",\"yellow\",\"orange\"}\n",
        "print(set1)\n",
        "set1.add(\"green\")\n",
        "set1"
      ]
    },
    {
      "cell_type": "markdown",
      "metadata": {
        "id": "ZmojU2enbzHJ"
      },
      "source": [
        "**Dictionary**"
      ]
    },
    {
      "cell_type": "code",
      "execution_count": null,
      "metadata": {
        "colab": {
          "base_uri": "https://localhost:8080/"
        },
        "id": "gd6hbF2xcKXi",
        "outputId": "390a4c93-7f5c-4851-8ead-082c11da2039"
      },
      "outputs": [
        {
          "output_type": "execute_result",
          "data": {
            "text/plain": [
              "{'Name': 'pratham'}"
            ]
          },
          "metadata": {},
          "execution_count": 7
        }
      ],
      "source": [
        "dict1={\"Name\":\"Kaushik\",\"age \":\"32\"}\n",
        "dict2=dict(Name=\"pratham\")\n",
        "dict2"
      ]
    },
    {
      "cell_type": "markdown",
      "metadata": {
        "id": "j4miHtKjjJ58"
      },
      "source": [
        "**Bitwise Operator**"
      ]
    },
    {
      "cell_type": "code",
      "execution_count": null,
      "metadata": {
        "colab": {
          "base_uri": "https://localhost:8080/"
        },
        "id": "OOfOtE5-jX6I",
        "outputId": "328158f6-3acb-4697-a59e-cb6de3dab3fe"
      },
      "outputs": [
        {
          "name": "stdout",
          "output_type": "stream",
          "text": [
            "8\n",
            "12\n",
            "4\n",
            "15\n",
            "14\n"
          ]
        }
      ],
      "source": [
        "print(8 & 12)\n",
        "print(8 | 12)\n",
        "print(8 ^ 12)\n",
        "a=12\n",
        "a+=3\n",
        "print(a)\n",
        "b=16\n",
        "b-=2\n",
        "print(b)"
      ]
    },
    {
      "cell_type": "markdown",
      "metadata": {
        "id": "kKvcgYptrkV5"
      },
      "source": [
        "**Identify and Membership Operator**"
      ]
    },
    {
      "cell_type": "code",
      "execution_count": null,
      "metadata": {
        "colab": {
          "base_uri": "https://localhost:8080/"
        },
        "id": "dNoET6Fdrv2I",
        "outputId": "7699dfcf-eb0b-409d-d112-170e72556ea9"
      },
      "outputs": [
        {
          "name": "stdout",
          "output_type": "stream",
          "text": [
            "True\n",
            "True\n"
          ]
        }
      ],
      "source": [
        "x=['Hubli','Blore']\n",
        "y=['Hubli','Blore']\n",
        "z=x\n",
        "x=y\n",
        "z=x\n",
        "print(z is x)\n",
        "print(y is x)\n"
      ]
    },
    {
      "cell_type": "markdown",
      "metadata": {
        "id": "tK2nff3RcuiV"
      },
      "source": [
        "**Looping Statements**"
      ]
    },
    {
      "cell_type": "code",
      "execution_count": null,
      "metadata": {
        "colab": {
          "base_uri": "https://localhost:8080/"
        },
        "id": "g5IZav9ycz1U",
        "outputId": "1ffb8113-b770-4b8e-9bee-24c3892671c3"
      },
      "outputs": [
        {
          "output_type": "stream",
          "name": "stdout",
          "text": [
            "0\n",
            "1\n",
            "2\n",
            "3\n",
            "4\n",
            "5\n"
          ]
        }
      ],
      "source": [
        "for num  in range(6):\n",
        " print(num)"
      ]
    },
    {
      "cell_type": "markdown",
      "source": [
        "**Numpy array**"
      ],
      "metadata": {
        "id": "OTSeSgDil-g9"
      }
    },
    {
      "cell_type": "code",
      "source": [
        "# Random number array\n",
        "import numpy as np\n",
        "n1=np.random.randint(100,500,10)\n",
        "n1"
      ],
      "metadata": {
        "colab": {
          "base_uri": "https://localhost:8080/"
        },
        "id": "AtmZdKrEPFkZ",
        "outputId": "86fdc6ea-3730-4d07-a832-7ce8b45b79d3"
      },
      "execution_count": null,
      "outputs": [
        {
          "output_type": "execute_result",
          "data": {
            "text/plain": [
              "array([158, 229, 299, 233, 153, 277, 399, 117, 380, 241])"
            ]
          },
          "metadata": {},
          "execution_count": 2
        }
      ]
    },
    {
      "cell_type": "code",
      "source": [
        "import numpy as np\n",
        "n1=np.array([10,20,30])\n",
        "n2=np.array([40,50,60])\n",
        "np.vstack((n1,n2))"
      ],
      "metadata": {
        "colab": {
          "base_uri": "https://localhost:8080/"
        },
        "id": "Zef5HXRWP7ol",
        "outputId": "8aaceb0e-4008-4c22-b86e-3284579499cf"
      },
      "execution_count": null,
      "outputs": [
        {
          "output_type": "execute_result",
          "data": {
            "text/plain": [
              "array([[10, 20, 30],\n",
              "       [40, 50, 60]])"
            ]
          },
          "metadata": {},
          "execution_count": 3
        }
      ]
    },
    {
      "cell_type": "code",
      "source": [
        "import numpy as np\n",
        "n1=np.array([10,20,30])\n",
        "n2=np.array([40,50,60])\n",
        "print(np.hstack((n1,n2)))\n"
      ],
      "metadata": {
        "colab": {
          "base_uri": "https://localhost:8080/"
        },
        "id": "jbwedYn2Q6J5",
        "outputId": "2b65baf4-f6f8-45fc-e3a9-b5ecb0eb5528"
      },
      "execution_count": null,
      "outputs": [
        {
          "output_type": "stream",
          "name": "stdout",
          "text": [
            "[10 20 30 40 50 60]\n",
            "[50 70 90]\n"
          ]
        }
      ]
    },
    {
      "cell_type": "code",
      "source": [
        "import numpy as np\n",
        "n1=np.array([10,20,30])\n",
        "n2=np.array([40,50,60])\n",
        "np.column_stack((n1,n2))"
      ],
      "metadata": {
        "colab": {
          "base_uri": "https://localhost:8080/"
        },
        "id": "ZEeEM3QNREm_",
        "outputId": "721380b9-5583-47e8-d217-197591643ff4"
      },
      "execution_count": null,
      "outputs": [
        {
          "output_type": "execute_result",
          "data": {
            "text/plain": [
              "array([[10, 40],\n",
              "       [20, 50],\n",
              "       [30, 60]])"
            ]
          },
          "metadata": {},
          "execution_count": 6
        }
      ]
    },
    {
      "cell_type": "code",
      "source": [
        "import numpy as np\n",
        "n1=np.array([10,20,30])\n",
        "n2=np.array([30,40,60])\n",
        "np.intersect1d(n1,n2)"
      ],
      "metadata": {
        "colab": {
          "base_uri": "https://localhost:8080/"
        },
        "id": "G7RFDQJVRmO6",
        "outputId": "fae5704e-a8c1-4a2d-bf9a-0d9c4b1a1ecf"
      },
      "execution_count": null,
      "outputs": [
        {
          "output_type": "execute_result",
          "data": {
            "text/plain": [
              "array([30])"
            ]
          },
          "metadata": {},
          "execution_count": 11
        }
      ]
    },
    {
      "cell_type": "code",
      "source": [
        "import numpy as np\n",
        "n1=np.array([10,20,30])\n",
        "n2=np.array([30,40,60])\n",
        "np.setdiff1d(n2,n1)"
      ],
      "metadata": {
        "colab": {
          "base_uri": "https://localhost:8080/"
        },
        "id": "IcJ6UIzpSASJ",
        "outputId": "adf9e431-ab7b-4b8e-de6e-e749dc35c1cb"
      },
      "execution_count": null,
      "outputs": [
        {
          "output_type": "execute_result",
          "data": {
            "text/plain": [
              "array([40, 60])"
            ]
          },
          "metadata": {},
          "execution_count": 8
        }
      ]
    },
    {
      "cell_type": "code",
      "source": [
        "import numpy as np\n",
        "n1=np.array([10,20,30])\n",
        "n2=np.array([30,40,60])\n",
        "np.mean([n1])\n"
      ],
      "metadata": {
        "colab": {
          "base_uri": "https://localhost:8080/"
        },
        "id": "_waNv1k2TQsG",
        "outputId": "c27468a2-e48b-4f86-84c8-f5d27a190781"
      },
      "execution_count": null,
      "outputs": [
        {
          "output_type": "execute_result",
          "data": {
            "text/plain": [
              "20.0"
            ]
          },
          "metadata": {},
          "execution_count": 15
        }
      ]
    },
    {
      "cell_type": "code",
      "source": [
        "import pandas as pd\n",
        "li=['a','b','c',1,2,3]\n",
        "s1=pd.Series(li)\n",
        "s1"
      ],
      "metadata": {
        "colab": {
          "base_uri": "https://localhost:8080/"
        },
        "id": "BgE10hzWV-iN",
        "outputId": "7584f323-aafb-4c26-fb52-883514722907"
      },
      "execution_count": null,
      "outputs": [
        {
          "output_type": "execute_result",
          "data": {
            "text/plain": [
              "0    a\n",
              "1    b\n",
              "2    c\n",
              "3    1\n",
              "4    2\n",
              "5    3\n",
              "dtype: object"
            ]
          },
          "metadata": {},
          "execution_count": 16
        }
      ]
    },
    {
      "cell_type": "code",
      "source": [
        "import random\n",
        "gamelist=['snake','water','fire']\n",
        "z=random.choice(gamelist)\n",
        "print(\"enter either the snake,water,fire\")\n",
        "print(user)\n",
        "if(computer=='snake'and user=='fire'):\n",
        "  print(\"user won\")\n",
        "elif(computer=='snake'and user=='water'):\n",
        "  print(\"computer won\")\n",
        "elif(computer=='water'and user=='fire'):\n",
        "  print(\"computer won\")\n",
        "elif(computer=='water'and user=='snake'):\n",
        "  print(\"user win\")\n",
        "elif(computer=='fire'and user=='water'):\n",
        "  print(\"user win\")\n",
        "elif()\n",
        "\n",
        "\n"
      ],
      "metadata": {
        "id": "VArkIJZ8zwhg"
      },
      "execution_count": null,
      "outputs": []
    }
  ],
  "metadata": {
    "colab": {
      "provenance": [],
      "authorship_tag": "ABX9TyMTEPCtBTHuPxRHzcrXVy8X",
      "include_colab_link": true
    },
    "kernelspec": {
      "display_name": "Python 3",
      "name": "python3"
    },
    "language_info": {
      "name": "python"
    }
  },
  "nbformat": 4,
  "nbformat_minor": 0
}