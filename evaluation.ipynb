{
  "nbformat": 4,
  "nbformat_minor": 0,
  "metadata": {
    "colab": {
      "provenance": [],
      "mount_file_id": "1PRXKp25ukvHOpJfbO8E1SgVgLTgEHwNL",
      "authorship_tag": "ABX9TyO/lrU/e+eiLEMXHWVP5eMy",
      "include_colab_link": true
    },
    "kernelspec": {
      "name": "python3",
      "display_name": "Python 3"
    },
    "language_info": {
      "name": "python"
    }
  },
  "cells": [
    {
      "cell_type": "markdown",
      "metadata": {
        "id": "view-in-github",
        "colab_type": "text"
      },
      "source": [
        "<a href=\"https://colab.research.google.com/github/PRATHAM987654321/Python-Programming/blob/main/evaluation.ipynb\" target=\"_parent\"><img src=\"https://colab.research.google.com/assets/colab-badge.svg\" alt=\"Open In Colab\"/></a>"
      ]
    },
    {
      "cell_type": "code",
      "execution_count": null,
      "metadata": {
        "colab": {
          "base_uri": "https://localhost:8080/"
        },
        "id": "p6HQACJVjPjl",
        "outputId": "2803bb4e-1d35-41ac-b07f-cafe1d38cb1e"
      },
      "outputs": [
        {
          "output_type": "stream",
          "name": "stdout",
          "text": [
            "Enter the number: 4\n",
            "* \n",
            "\n",
            "* * \n",
            "\n",
            "* * * \n",
            "\n",
            "* * * * \n",
            "\n"
          ]
        }
      ],
      "source": [
        "n=int(input(\"Enter the number: \"))\n",
        "for i in range(n):\n",
        "  for j in range(n):\n",
        "     if i>=j:\n",
        "       print(\"*\",end=\" \")\n",
        "  print(\"\\n\")"
      ]
    },
    {
      "cell_type": "code",
      "source": [
        "n=int(input(\"enter the number: \"))\n",
        "count=0\n",
        "for i in range(1,n+1):\n",
        " if(n%i==0):\n",
        "   count+=1\n",
        "if(count==2):\n",
        " print(\"number is prime \")\n",
        "else:\n",
        "    if n%3==0:\n",
        "      print(\"number divisible by 3\")\n",
        "    elif n%7==0:\n",
        "      print(\"number divisible by 7\")\n",
        "    elif n%9==0:\n",
        "      print(\"number divisible by 9\")\n",
        "    elif n%11==0:\n",
        "      print(\"number divisible by 11\")"
      ],
      "metadata": {
        "colab": {
          "base_uri": "https://localhost:8080/"
        },
        "id": "a_-jmhRIjtwA",
        "outputId": "ec6c6160-6a49-4af3-d5ef-addeff95b641"
      },
      "execution_count": null,
      "outputs": [
        {
          "output_type": "stream",
          "name": "stdout",
          "text": [
            "enter the number: 12\n",
            "number divisible by 3\n"
          ]
        }
      ]
    },
    {
      "cell_type": "code",
      "source": [
        "lis=[]\n",
        "odd=[]\n",
        "even=[]\n",
        "\n",
        "for i in range(10):\n",
        "   x=int(input(\"enter the number: \"))\n",
        "   lis.append(x)\n",
        "   if(x%2==0):\n",
        "    even.append(x)\n",
        "   else:\n",
        "    odd.append(x)\n",
        "print(odd)\n",
        "print(even)\n"
      ],
      "metadata": {
        "colab": {
          "base_uri": "https://localhost:8080/"
        },
        "id": "XtpmyoSrkvMW",
        "outputId": "e90c4a70-aa55-468f-f51a-2759dd11d339"
      },
      "execution_count": null,
      "outputs": [
        {
          "output_type": "stream",
          "name": "stdout",
          "text": [
            "enter the number: 1\n",
            "enter the number: 2\n",
            "enter the number: 3\n",
            "enter the number: 4\n",
            "enter the number: 5\n",
            "enter the number: 6\n",
            "enter the number: 7\n",
            "enter the number: 8\n",
            "enter the number: 9\n",
            "enter the number: 10\n",
            "[1, 3, 5, 7, 9]\n",
            "[2, 4, 6, 8, 10]\n"
          ]
        }
      ]
    },
    {
      "cell_type": "code",
      "source": [
        "\n",
        "n=input(\"enter the string : \")\n",
        "count=0\n",
        "a=-1\n",
        "for i in range((len(n))):\n",
        " if n[i]==n[a]:\n",
        "  a-=1\n",
        " else:\n",
        "  count=-1\n",
        "  break\n",
        "if (count==0):\n",
        "     print(\"pallindrome string\")\n",
        "else:\n",
        "     print(\"non palindrome\")\n",
        "\n",
        "\n",
        "\n"
      ],
      "metadata": {
        "colab": {
          "base_uri": "https://localhost:8080/"
        },
        "id": "hlh_tJ8tnGpY",
        "outputId": "e43f2132-cb3c-4f56-f663-ff795c67b59d"
      },
      "execution_count": null,
      "outputs": [
        {
          "output_type": "stream",
          "name": "stdout",
          "text": [
            "enter the string : madam\n",
            "pallindrome string\n"
          ]
        }
      ]
    },
    {
      "cell_type": "markdown",
      "source": [
        "**Weekly Assessment-2**"
      ],
      "metadata": {
        "id": "X9Hyk8umfNux"
      }
    },
    {
      "cell_type": "code",
      "source": [
        "import pandas as pd\n",
        "import numpy as np\n",
        "import matplotlib.pyplot as plt\n",
        "data=pd.read_fwf('/content/drive/MyDrive/Data.txt')\n",
        "x=data['Volume'].values.reshape((-1,1))\n",
        "y=data['CO2'].values.reshape((-1,1))\n",
        "x_mean=np.mean(x)\n",
        "y_mean=np.mean(y)\n",
        "m=len(x)\n",
        "num=0\n",
        "den=0\n",
        "\n",
        "for i in range(m):\n",
        "  num+=(x[i]-x_mean)*(y[i]-y_mean)\n",
        "  den+=(x[i]-x_mean)**2\n",
        "\n",
        "w1=num/den\n",
        "w0=y_mean-(w1*x_mean)\n",
        "\n",
        "pred1=w0+w1*x\n",
        "from sklearn.linear_model import LinearRegression\n",
        "SLR=LinearRegression()\n",
        "SLR.fit(x,y)\n",
        "pred2=SLR.predict(x)\n",
        "print(pred1)\n",
        "print(pred2)\n",
        "\n",
        "\n",
        "plt.scatter(x,y,color='red',label='scatter graph')\n",
        "plt.plot(x,pred1,color='yellow',marker='*',label='using function')\n",
        "plt.plot(x,pred2,color='orange',marker='o',label='using sklearn')\n",
        "plt.xlabel(\"volume\")\n",
        "plt.ylabel(\"co2\")\n",
        "plt.legend()\n",
        "plt.show()"
      ],
      "metadata": {
        "colab": {
          "base_uri": "https://localhost:8080/",
          "height": 704
        },
        "id": "FyjXo8LwfWQ8",
        "outputId": "e5984164-1d89-418f-a1ce-d646ce814ca9"
      },
      "execution_count": 28,
      "outputs": [
        {
          "output_type": "stream",
          "name": "stdout",
          "text": [
            "[[ 71.60714286]\n",
            " [116.64285714]\n",
            " [161.67857143]\n",
            " [206.71428571]\n",
            " [251.75      ]\n",
            " [296.78571429]\n",
            " [341.82142857]]\n",
            "[[ 71.60714286]\n",
            " [116.64285714]\n",
            " [161.67857143]\n",
            " [206.71428571]\n",
            " [251.75      ]\n",
            " [296.78571429]\n",
            " [341.82142857]]\n"
          ]
        },
        {
          "output_type": "display_data",
          "data": {
            "text/plain": [
              "<Figure size 640x480 with 1 Axes>"
            ],
            "image/png": "[encoded data removed]"
          },
          "metadata": {}
        }
      ]
    },
    {
      "cell_type": "code",
      "source": [
        "def Humpty_Dumpty(num):\n",
        " if(num%3==0 and num%5==0):\n",
        "    print(\"Humpty_Dumpty\")\n",
        " elif(num%3==0):\n",
        "    print(\"Humpty\")\n",
        " elif(num%5==0):\n",
        "  print(\"Dumpty\")\n",
        "\n",
        " else:\n",
        "  print(\"num: \",num)\n",
        "\n",
        "num=int(input(\"enter the number :\"))\n",
        "Humpty_Dumpty(num)"
      ],
      "metadata": {
        "colab": {
          "base_uri": "https://localhost:8080/"
        },
        "id": "FX7I6vx4kJmA",
        "outputId": "4df62e14-3d01-4853-a392-a251790702f3"
      },
      "execution_count": 32,
      "outputs": [
        {
          "output_type": "stream",
          "name": "stdout",
          "text": [
            "enter the number :15\n",
            "Humpty_Dumpty\n"
          ]
        }
      ]
    },
    {
      "cell_type": "code",
      "source": [
        "def sum(limit):\n",
        "  sum=0\n",
        "  for i in range(0,limit+1):\n",
        "    if i%3==0 or i%5==0:\n",
        "      sum+=i\n",
        "  print(sum)\n",
        "\n",
        "limit=int(input(\"enter the limit :\"))\n",
        "sum(limit)"
      ],
      "metadata": {
        "colab": {
          "base_uri": "https://localhost:8080/"
        },
        "id": "8pDeRjbHlVSH",
        "outputId": "71131281-77d4-4748-f21a-5343ecc08964"
      },
      "execution_count": 21,
      "outputs": [
        {
          "output_type": "stream",
          "name": "stdout",
          "text": [
            "enter the limit :20\n",
            "98\n"
          ]
        }
      ]
    },
    {
      "cell_type": "code",
      "source": [
        "import numpy as np\n",
        "a = np.empty((3, 2))\n",
        "b = np.empty((2, 3))\n",
        "\n",
        "print(\"Enter values for matrix a (3x2):\")\n",
        "for i in range(3):\n",
        "    for j in range(2):\n",
        "        x = int(input())\n",
        "        a[i][j] = x\n",
        "\n",
        "print(\"Enter values for matrix b (2x3):\")\n",
        "for i in range(2):\n",
        "    for j in range(3):\n",
        "        y = int(input())\n",
        "        b[i][j] = y\n",
        "\n",
        "c = np.zeros((3, 3))\n",
        "\n",
        "# Perform matrix multiplication\n",
        "for i in range(3):\n",
        "    for j in range(3):\n",
        "        sum = 0\n",
        "        for k in range(2):\n",
        "            sum += a[i][k] * b[k][j]\n",
        "        c[i][j] = sum\n",
        "\n",
        "print(\"Matrix a:\")\n",
        "print(a)\n",
        "print(\"Matrix b:\")\n",
        "print(b)\n",
        "print(\"Result of matrix multiplication (c):\")\n",
        "print(c)"
      ],
      "metadata": {
        "colab": {
          "base_uri": "https://localhost:8080/"
        },
        "id": "-BsXTEBKmKe2",
        "outputId": "ebd938fc-e4e4-4b3e-cb1d-a09ff1f8998f"
      },
      "execution_count": 22,
      "outputs": [
        {
          "output_type": "stream",
          "name": "stdout",
          "text": [
            "Enter values for matrix a (3x2):\n",
            "1\n",
            "2\n",
            "3\n",
            "4\n",
            "5\n",
            "6\n",
            "Enter values for matrix b (2x3):\n",
            "2\n",
            "4\n",
            "8\n",
            "9\n",
            "6\n",
            "8\n",
            "Matrix a:\n",
            "[[1. 2.]\n",
            " [3. 4.]\n",
            " [5. 6.]]\n",
            "Matrix b:\n",
            "[[2. 4. 8.]\n",
            " [9. 6. 8.]]\n",
            "Result of matrix multiplication (c):\n",
            "[[20. 16. 24.]\n",
            " [42. 36. 56.]\n",
            " [64. 56. 88.]]\n"
          ]
        }
      ]
    }
  ]
}