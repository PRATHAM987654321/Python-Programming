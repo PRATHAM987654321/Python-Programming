{
  "nbformat": 4,
  "nbformat_minor": 0,
  "metadata": {
    "colab": {
      "provenance": []
    },
    "kernelspec": {
      "name": "python3",
      "display_name": "Python 3"
    },
    "language_info": {
      "name": "python"
    }
  },
  "cells": [
    {
      "cell_type": "markdown",
      "source": [
        "**Date:20-8-23  Assignment No: 1**"
      ],
      "metadata": {
        "id": "CxRzNjPIj4FI"
      }
    },
    {
      "cell_type": "markdown",
      "source": [
        "**1.Interest rate in bank**"
      ],
      "metadata": {
        "id": "YDgnlJbWmpJT"
      }
    },
    {
      "cell_type": "code",
      "source": [
        "# Interest rate in bank\n",
        "amt=int(input(\"Enter the amount:\"))\n",
        "if amt<5000:\n",
        "   print(\"The interest paid to the user is \",0.05*amt)\n",
        "elif 5000< amt <15000:\n",
        "    print(\"The interest paid to the user is \",int (0.07*amt))"
      ],
      "metadata": {
        "colab": {
          "base_uri": "https://localhost:8080/"
        },
        "id": "03ulDUpLkHAy",
        "outputId": "e3edf98b-ef63-4e1c-96d2-01dc86e4def0"
      },
      "execution_count": null,
      "outputs": [
        {
          "output_type": "stream",
          "name": "stdout",
          "text": [
            "Enter the amount:12500\n",
            "The interest paid to the user is  875\n"
          ]
        }
      ]
    },
    {
      "cell_type": "markdown",
      "source": [
        "**2.Given input number is even or odd**\n"
      ],
      "metadata": {
        "id": "4XVK8Rivm5MF"
      }
    },
    {
      "cell_type": "code",
      "source": [
        "# Given input number is even or odd\n",
        "num=int(input(\"Enter the number:\"))\n",
        "if num%2==0:\n",
        "   print(\"The number is even\")\n",
        "else:\n",
        "     print(\"The number is odd\")\n"
      ],
      "metadata": {
        "colab": {
          "base_uri": "https://localhost:8080/"
        },
        "id": "AxBoLuNkm_I5",
        "outputId": "206efcc2-36f9-40aa-8ac8-d2ed8bf16117"
      },
      "execution_count": null,
      "outputs": [
        {
          "output_type": "stream",
          "name": "stdout",
          "text": [
            "Enter the number:12\n",
            "The number is even\n"
          ]
        }
      ]
    },
    {
      "cell_type": "markdown",
      "source": [
        "**3.The given alphabet is vowel or not**"
      ],
      "metadata": {
        "id": "NWnXoA-wn2Xl"
      }
    },
    {
      "cell_type": "code",
      "source": [
        "# The given alphabet is vowel or not\n",
        "alp=input(\"Enter the character:\")\n",
        "if alp == 'a' or alp == 'e' or alp == 'i' or alp == 'o' or alp == 'u':\n",
        "   print(\"The given alphabet is a vowel\")\n",
        "else:\n",
        "   print(\"The given alphabet is a consonant\")"
      ],
      "metadata": {
        "colab": {
          "base_uri": "https://localhost:8080/"
        },
        "id": "J5mQyQREpfFT",
        "outputId": "fb460f49-a4f8-4a57-9ff9-6423ee3f1144"
      },
      "execution_count": null,
      "outputs": [
        {
          "output_type": "stream",
          "name": "stdout",
          "text": [
            "Enter the character:p\n",
            "The given alphabet is a consonant\n"
          ]
        }
      ]
    },
    {
      "cell_type": "markdown",
      "source": [
        "**4.Simple Calculator**"
      ],
      "metadata": {
        "id": "woFkAB72snbU"
      }
    },
    {
      "cell_type": "code",
      "source": [
        "# Simple Calculator\n",
        "a=15\n",
        "b=3\n",
        "sgn=input(\"Enter the sign:\")\n",
        "if sgn=='+':\n",
        "   print(\"The sum of numbers is: \",a+b)\n",
        "elif sgn=='-':\n",
        "     print(\"The diff of numbers is: \",a-b)\n",
        "elif sgn=='*':\n",
        "     print(\"The product of numbers is: \",a*b)\n",
        "else:\n",
        "     print(\"The quotient is:\",a/b)"
      ],
      "metadata": {
        "id": "T6iG-7aCtDfV",
        "colab": {
          "base_uri": "https://localhost:8080/"
        },
        "outputId": "f08c133c-70b2-40fe-c058-a728559545b5"
      },
      "execution_count": 22,
      "outputs": [
        {
          "output_type": "stream",
          "name": "stdout",
          "text": [
            "Enter the sign:+\n",
            "The sum of numbers is:  18\n"
          ]
        }
      ]
    },
    {
      "cell_type": "markdown",
      "source": [
        "**5.Equality of numbers**"
      ],
      "metadata": {
        "id": "TZn52aAiurfX"
      }
    },
    {
      "cell_type": "code",
      "source": [
        "a=int(input(\"Enter the 1st number:\"))\n",
        "b=int(input(\"Enter the 2nd number:\"))\n",
        "if a>b:\n",
        "  print(\"The 1st number is greater than 2nd number\")\n",
        "elif a<b:\n",
        "  print(\"The 1st number is greater than 2nd number\")\n",
        "else:\n",
        "  print(\"the 2 numbers are equal\")"
      ],
      "metadata": {
        "colab": {
          "base_uri": "https://localhost:8080/"
        },
        "id": "KqLhnLGIvJar",
        "outputId": "876442e9-ce3e-4586-9e70-0ce551ff50a0"
      },
      "execution_count": 24,
      "outputs": [
        {
          "output_type": "stream",
          "name": "stdout",
          "text": [
            "Enter the 1st number:15\n",
            "Enter the 2nd number:95\n",
            "The 1st number is greater than 2nd number\n"
          ]
        }
      ]
    }
  ]
}